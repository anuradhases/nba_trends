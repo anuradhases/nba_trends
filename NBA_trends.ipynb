{
 "cells": [
  {
   "cell_type": "markdown",
   "id": "cc5b40df",
   "metadata": {},
   "source": [
    "# NBA Trends"
   ]
  },
  {
   "cell_type": "markdown",
   "id": "dcc74a37",
   "metadata": {},
   "source": [
    "## 1. Understand Data \n",
    "-included in Readme.MD\n",
    "\n",
    "## 2. Acquire & Inspect the Data\n",
    "\n",
    "\n",
    "Step 1: Import relevant Modules"
   ]
  },
  {
   "cell_type": "code",
   "execution_count": 1,
   "id": "056733c1",
   "metadata": {},
   "outputs": [],
   "source": [
    "import pandas as pd\n",
    "import matplotlib.pyplot as plt\n",
    "from matplotlib.pyplot import cm\n",
    "import numpy as np\n",
    "import seaborn as sns\n",
    "from scipy.stats import pearsonr\n",
    "from scipy.stats import chi2_contingency\n",
    "import scipy.stats as stats"
   ]
  },
  {
   "cell_type": "markdown",
   "id": "32e4fe38",
   "metadata": {},
   "source": [
    "Step 2: Read data into script"
   ]
  },
  {
   "cell_type": "code",
   "execution_count": 2,
   "id": "3abd2fc8",
   "metadata": {},
   "outputs": [
    {
     "ename": "FileNotFoundError",
     "evalue": "[Errno 2] No such file or directory: '/Users/anuroxstar/Documents/Github/NBA-Project/nba-elo/nbaallelo.csv'",
     "output_type": "error",
     "traceback": [
      "\u001b[0;31m---------------------------------------------------------------------------\u001b[0m",
      "\u001b[0;31mFileNotFoundError\u001b[0m                         Traceback (most recent call last)",
      "\u001b[0;32m/var/folders/jl/ghr36nms4yd24n06j_2htsd00000gn/T/ipykernel_19671/3927986811.py\u001b[0m in \u001b[0;36m<module>\u001b[0;34m\u001b[0m\n\u001b[0;32m----> 1\u001b[0;31m \u001b[0mnba\u001b[0m \u001b[0;34m=\u001b[0m \u001b[0mpd\u001b[0m\u001b[0;34m.\u001b[0m\u001b[0mread_csv\u001b[0m\u001b[0;34m(\u001b[0m\u001b[0;34m'/Users/anuroxstar/Documents/Github/NBA-Project/nba-elo/nbaallelo.csv'\u001b[0m\u001b[0;34m)\u001b[0m\u001b[0;34m\u001b[0m\u001b[0;34m\u001b[0m\u001b[0m\n\u001b[0m",
      "\u001b[0;32m~/opt/anaconda3/lib/python3.9/site-packages/pandas/util/_decorators.py\u001b[0m in \u001b[0;36mwrapper\u001b[0;34m(*args, **kwargs)\u001b[0m\n\u001b[1;32m    309\u001b[0m                     \u001b[0mstacklevel\u001b[0m\u001b[0;34m=\u001b[0m\u001b[0mstacklevel\u001b[0m\u001b[0;34m,\u001b[0m\u001b[0;34m\u001b[0m\u001b[0;34m\u001b[0m\u001b[0m\n\u001b[1;32m    310\u001b[0m                 )\n\u001b[0;32m--> 311\u001b[0;31m             \u001b[0;32mreturn\u001b[0m \u001b[0mfunc\u001b[0m\u001b[0;34m(\u001b[0m\u001b[0;34m*\u001b[0m\u001b[0margs\u001b[0m\u001b[0;34m,\u001b[0m \u001b[0;34m**\u001b[0m\u001b[0mkwargs\u001b[0m\u001b[0;34m)\u001b[0m\u001b[0;34m\u001b[0m\u001b[0;34m\u001b[0m\u001b[0m\n\u001b[0m\u001b[1;32m    312\u001b[0m \u001b[0;34m\u001b[0m\u001b[0m\n\u001b[1;32m    313\u001b[0m         \u001b[0;32mreturn\u001b[0m \u001b[0mwrapper\u001b[0m\u001b[0;34m\u001b[0m\u001b[0;34m\u001b[0m\u001b[0m\n",
      "\u001b[0;32m~/opt/anaconda3/lib/python3.9/site-packages/pandas/io/parsers/readers.py\u001b[0m in \u001b[0;36mread_csv\u001b[0;34m(filepath_or_buffer, sep, delimiter, header, names, index_col, usecols, squeeze, prefix, mangle_dupe_cols, dtype, engine, converters, true_values, false_values, skipinitialspace, skiprows, skipfooter, nrows, na_values, keep_default_na, na_filter, verbose, skip_blank_lines, parse_dates, infer_datetime_format, keep_date_col, date_parser, dayfirst, cache_dates, iterator, chunksize, compression, thousands, decimal, lineterminator, quotechar, quoting, doublequote, escapechar, comment, encoding, encoding_errors, dialect, error_bad_lines, warn_bad_lines, on_bad_lines, delim_whitespace, low_memory, memory_map, float_precision, storage_options)\u001b[0m\n\u001b[1;32m    676\u001b[0m     \u001b[0mkwds\u001b[0m\u001b[0;34m.\u001b[0m\u001b[0mupdate\u001b[0m\u001b[0;34m(\u001b[0m\u001b[0mkwds_defaults\u001b[0m\u001b[0;34m)\u001b[0m\u001b[0;34m\u001b[0m\u001b[0;34m\u001b[0m\u001b[0m\n\u001b[1;32m    677\u001b[0m \u001b[0;34m\u001b[0m\u001b[0m\n\u001b[0;32m--> 678\u001b[0;31m     \u001b[0;32mreturn\u001b[0m \u001b[0m_read\u001b[0m\u001b[0;34m(\u001b[0m\u001b[0mfilepath_or_buffer\u001b[0m\u001b[0;34m,\u001b[0m \u001b[0mkwds\u001b[0m\u001b[0;34m)\u001b[0m\u001b[0;34m\u001b[0m\u001b[0;34m\u001b[0m\u001b[0m\n\u001b[0m\u001b[1;32m    679\u001b[0m \u001b[0;34m\u001b[0m\u001b[0m\n\u001b[1;32m    680\u001b[0m \u001b[0;34m\u001b[0m\u001b[0m\n",
      "\u001b[0;32m~/opt/anaconda3/lib/python3.9/site-packages/pandas/io/parsers/readers.py\u001b[0m in \u001b[0;36m_read\u001b[0;34m(filepath_or_buffer, kwds)\u001b[0m\n\u001b[1;32m    573\u001b[0m \u001b[0;34m\u001b[0m\u001b[0m\n\u001b[1;32m    574\u001b[0m     \u001b[0;31m# Create the parser.\u001b[0m\u001b[0;34m\u001b[0m\u001b[0;34m\u001b[0m\u001b[0m\n\u001b[0;32m--> 575\u001b[0;31m     \u001b[0mparser\u001b[0m \u001b[0;34m=\u001b[0m \u001b[0mTextFileReader\u001b[0m\u001b[0;34m(\u001b[0m\u001b[0mfilepath_or_buffer\u001b[0m\u001b[0;34m,\u001b[0m \u001b[0;34m**\u001b[0m\u001b[0mkwds\u001b[0m\u001b[0;34m)\u001b[0m\u001b[0;34m\u001b[0m\u001b[0;34m\u001b[0m\u001b[0m\n\u001b[0m\u001b[1;32m    576\u001b[0m \u001b[0;34m\u001b[0m\u001b[0m\n\u001b[1;32m    577\u001b[0m     \u001b[0;32mif\u001b[0m \u001b[0mchunksize\u001b[0m \u001b[0;32mor\u001b[0m \u001b[0miterator\u001b[0m\u001b[0;34m:\u001b[0m\u001b[0;34m\u001b[0m\u001b[0;34m\u001b[0m\u001b[0m\n",
      "\u001b[0;32m~/opt/anaconda3/lib/python3.9/site-packages/pandas/io/parsers/readers.py\u001b[0m in \u001b[0;36m__init__\u001b[0;34m(self, f, engine, **kwds)\u001b[0m\n\u001b[1;32m    930\u001b[0m \u001b[0;34m\u001b[0m\u001b[0m\n\u001b[1;32m    931\u001b[0m         \u001b[0mself\u001b[0m\u001b[0;34m.\u001b[0m\u001b[0mhandles\u001b[0m\u001b[0;34m:\u001b[0m \u001b[0mIOHandles\u001b[0m \u001b[0;34m|\u001b[0m \u001b[0;32mNone\u001b[0m \u001b[0;34m=\u001b[0m \u001b[0;32mNone\u001b[0m\u001b[0;34m\u001b[0m\u001b[0;34m\u001b[0m\u001b[0m\n\u001b[0;32m--> 932\u001b[0;31m         \u001b[0mself\u001b[0m\u001b[0;34m.\u001b[0m\u001b[0m_engine\u001b[0m \u001b[0;34m=\u001b[0m \u001b[0mself\u001b[0m\u001b[0;34m.\u001b[0m\u001b[0m_make_engine\u001b[0m\u001b[0;34m(\u001b[0m\u001b[0mf\u001b[0m\u001b[0;34m,\u001b[0m \u001b[0mself\u001b[0m\u001b[0;34m.\u001b[0m\u001b[0mengine\u001b[0m\u001b[0;34m)\u001b[0m\u001b[0;34m\u001b[0m\u001b[0;34m\u001b[0m\u001b[0m\n\u001b[0m\u001b[1;32m    933\u001b[0m \u001b[0;34m\u001b[0m\u001b[0m\n\u001b[1;32m    934\u001b[0m     \u001b[0;32mdef\u001b[0m \u001b[0mclose\u001b[0m\u001b[0;34m(\u001b[0m\u001b[0mself\u001b[0m\u001b[0;34m)\u001b[0m\u001b[0;34m:\u001b[0m\u001b[0;34m\u001b[0m\u001b[0;34m\u001b[0m\u001b[0m\n",
      "\u001b[0;32m~/opt/anaconda3/lib/python3.9/site-packages/pandas/io/parsers/readers.py\u001b[0m in \u001b[0;36m_make_engine\u001b[0;34m(self, f, engine)\u001b[0m\n\u001b[1;32m   1214\u001b[0m             \u001b[0;31m# \"Union[str, PathLike[str], ReadCsvBuffer[bytes], ReadCsvBuffer[str]]\"\u001b[0m\u001b[0;34m\u001b[0m\u001b[0;34m\u001b[0m\u001b[0m\n\u001b[1;32m   1215\u001b[0m             \u001b[0;31m# , \"str\", \"bool\", \"Any\", \"Any\", \"Any\", \"Any\", \"Any\"\u001b[0m\u001b[0;34m\u001b[0m\u001b[0;34m\u001b[0m\u001b[0m\n\u001b[0;32m-> 1216\u001b[0;31m             self.handles = get_handle(  # type: ignore[call-overload]\n\u001b[0m\u001b[1;32m   1217\u001b[0m                 \u001b[0mf\u001b[0m\u001b[0;34m,\u001b[0m\u001b[0;34m\u001b[0m\u001b[0;34m\u001b[0m\u001b[0m\n\u001b[1;32m   1218\u001b[0m                 \u001b[0mmode\u001b[0m\u001b[0;34m,\u001b[0m\u001b[0;34m\u001b[0m\u001b[0;34m\u001b[0m\u001b[0m\n",
      "\u001b[0;32m~/opt/anaconda3/lib/python3.9/site-packages/pandas/io/common.py\u001b[0m in \u001b[0;36mget_handle\u001b[0;34m(path_or_buf, mode, encoding, compression, memory_map, is_text, errors, storage_options)\u001b[0m\n\u001b[1;32m    784\u001b[0m         \u001b[0;32mif\u001b[0m \u001b[0mioargs\u001b[0m\u001b[0;34m.\u001b[0m\u001b[0mencoding\u001b[0m \u001b[0;32mand\u001b[0m \u001b[0;34m\"b\"\u001b[0m \u001b[0;32mnot\u001b[0m \u001b[0;32min\u001b[0m \u001b[0mioargs\u001b[0m\u001b[0;34m.\u001b[0m\u001b[0mmode\u001b[0m\u001b[0;34m:\u001b[0m\u001b[0;34m\u001b[0m\u001b[0;34m\u001b[0m\u001b[0m\n\u001b[1;32m    785\u001b[0m             \u001b[0;31m# Encoding\u001b[0m\u001b[0;34m\u001b[0m\u001b[0;34m\u001b[0m\u001b[0m\n\u001b[0;32m--> 786\u001b[0;31m             handle = open(\n\u001b[0m\u001b[1;32m    787\u001b[0m                 \u001b[0mhandle\u001b[0m\u001b[0;34m,\u001b[0m\u001b[0;34m\u001b[0m\u001b[0;34m\u001b[0m\u001b[0m\n\u001b[1;32m    788\u001b[0m                 \u001b[0mioargs\u001b[0m\u001b[0;34m.\u001b[0m\u001b[0mmode\u001b[0m\u001b[0;34m,\u001b[0m\u001b[0;34m\u001b[0m\u001b[0;34m\u001b[0m\u001b[0m\n",
      "\u001b[0;31mFileNotFoundError\u001b[0m: [Errno 2] No such file or directory: '/Users/anuroxstar/Documents/Github/NBA-Project/nba-elo/nbaallelo.csv'"
     ]
    }
   ],
   "source": [
    "nba = pd.read_csv('/Users/anuroxstar/Documents/Github/NBA-Project/nba-elo/nbaallelo.csv')"
   ]
  },
  {
   "cell_type": "markdown",
   "id": "840336c5",
   "metadata": {},
   "source": [
    "Step 3: Inspect data"
   ]
  },
  {
   "cell_type": "code",
   "execution_count": null,
   "id": "da604d3f",
   "metadata": {},
   "outputs": [],
   "source": [
    "print(nba.head())\n",
    "print(nba.info())\n",
    "print(nba.shape)"
   ]
  },
  {
   "cell_type": "markdown",
   "id": "52ea4c8a",
   "metadata": {},
   "source": [
    "## 3. Data Cleaning:"
   ]
  },
  {
   "cell_type": "markdown",
   "id": "b5903ff4",
   "metadata": {},
   "source": [
    "Step 1: Reshape Data?\n",
    "- data is tidy (tabular format)"
   ]
  },
  {
   "cell_type": "markdown",
   "id": "ece1a8b4",
   "metadata": {},
   "source": [
    "Step 2: Remove duplicates"
   ]
  },
  {
   "cell_type": "code",
   "execution_count": null,
   "id": "a249812e",
   "metadata": {},
   "outputs": [],
   "source": [
    "nba.drop_duplicates()\n",
    "nba = nba[nba._iscopy == 0]\n",
    "#Check duplicate data is removed\n",
    "print(nba._iscopy.value_counts)"
   ]
  },
  {
   "cell_type": "markdown",
   "id": "ed1b49d1",
   "metadata": {},
   "source": [
    "Step 3: Explore the following columns."
   ]
  },
  {
   "cell_type": "code",
   "execution_count": null,
   "id": "aef1629b",
   "metadata": {},
   "outputs": [],
   "source": [
    "print(nba.lg_id.value_counts)\n",
    "\n",
    "print(nba.fran_id.value_counts(normalize=True))\n",
    "nba = nba.rename({'fran_id':'playing_team'}, axis = 1)\n",
    "\n",
    "print(nba.team_id.value_counts)\n",
    "\n",
    "print(nba.win_equiv.value_counts)\n",
    "\n",
    "print(nba.opp_fran.value_counts(normalize = True))\n",
    "nba = nba.rename({'opp_fran':'opp_team'}, axis = 1)\n",
    "\n",
    "print(nba.opp_id.value_counts)\n",
    "\n",
    "print(nba.notes.value_counts)\n",
    "\n",
    "print(nba.game_location.value_counts(normalize = True))\n"
   ]
  },
  {
   "cell_type": "markdown",
   "id": "5369e43f",
   "metadata": {},
   "source": [
    "Step 4: Remove columns"
   ]
  },
  {
   "cell_type": "code",
   "execution_count": null,
   "id": "2a9a7f1c",
   "metadata": {},
   "outputs": [],
   "source": [
    "nba.drop(['lg_id','date_game','team_id','elo_i', 'elo_n', '_iscopy', 'gameorder'], axis =1, inplace = True)\n",
    "nba.drop(['win_equiv','opp_id','opp_elo_i','opp_elo_n','notes'], axis =1, inplace = True)\n"
   ]
  },
  {
   "cell_type": "markdown",
   "id": "69b4c1e6",
   "metadata": {},
   "source": [
    "Step 5: Missing/ Incomplete Data?"
   ]
  },
  {
   "cell_type": "code",
   "execution_count": null,
   "id": "8ed5b096",
   "metadata": {},
   "outputs": [],
   "source": [
    "print(nba.info())"
   ]
  },
  {
   "cell_type": "markdown",
   "id": "a2e3ddd9",
   "metadata": {},
   "source": [
    "Step 6: Change Data Types of Columns?"
   ]
  },
  {
   "cell_type": "code",
   "execution_count": null,
   "id": "b54f68c0",
   "metadata": {},
   "outputs": [],
   "source": [
    "\n",
    "plt.hist(nba.is_playoffs)\n",
    "plt.show()\n",
    "plt.close()\n",
    "nba['is_playoffs'] = nba['is_playoffs'].astype('string')\n",
    "\n",
    "#Confirm change in data types\n",
    "print(nba.info())"
   ]
  },
  {
   "cell_type": "markdown",
   "id": "6c78fd5d",
   "metadata": {},
   "source": [
    "Step 7: Numerical Variables ONLY: Skewed Data? - through comparing mean and median"
   ]
  },
  {
   "cell_type": "code",
   "execution_count": null,
   "id": "9331ecbe",
   "metadata": {},
   "outputs": [],
   "source": [
    "print(nba.describe())"
   ]
  },
  {
   "cell_type": "markdown",
   "id": "e415f0bc",
   "metadata": {},
   "source": [
    "Step 8: Numerical Variables ONLY: Outlier/Anomalous Data?"
   ]
  },
  {
   "cell_type": "code",
   "execution_count": null,
   "id": "2949a929",
   "metadata": {},
   "outputs": [],
   "source": [
    "def boxplot(column, name):\n",
    "    sns.boxplot(data = nba, x = nba[f'{column}'])\n",
    "    plt.xlabel(str.upper(column))\n",
    "    plt.title(str.upper(column)+\": Distribution\")\n",
    "    plt.savefig(name)\n",
    "    plt.show()\n",
    "boxplot('pts', 'pts_boxplot.jpg')\n",
    "boxplot('opp_pts', 'opp_pts_boxplot.jpg')\n",
    "boxplot('forecast','forecast_boxplot.jpg')"
   ]
  },
  {
   "cell_type": "markdown",
   "id": "14edb9d5",
   "metadata": {},
   "source": [
    "## 4. Exploratory Data Analysis &  Data Visualizations:"
   ]
  },
  {
   "cell_type": "markdown",
   "id": "07a7a599",
   "metadata": {},
   "source": [
    "First determine how many teams there are"
   ]
  },
  {
   "cell_type": "code",
   "execution_count": null,
   "id": "6e348d0e",
   "metadata": {},
   "outputs": [],
   "source": [
    "print(nba.playing_team.nunique())"
   ]
  },
  {
   "cell_type": "markdown",
   "id": "f35f0ca9",
   "metadata": {},
   "source": [
    "Question 1: Is forecast of winning linearly associated to points won? (for all 53 teams):"
   ]
  },
  {
   "cell_type": "code",
   "execution_count": null,
   "id": "15d48293",
   "metadata": {},
   "outputs": [],
   "source": [
    "corr_forecast_pointdiff, p = pearsonr(nba.forecast, nba.pts)\n",
    "print(corr_forecast_pointdiff)\n",
    "pts_vs_forecast = plt.scatter(nba.forecast, nba.pts, color = 'orange')\n",
    "plt.xlabel('Forecast')\n",
    "plt.ylabel('Points Scored')\n",
    "plt.annotate(str(np.round(corr_forecast_pointdiff,2)), xy=(0.05, 0.95), xycoords='axes fraction')\n",
    "plt.title('Points Scored vs Forecast')\n",
    "plt.savefig('points_scored_vs_forecast.jpg')\n",
    "plt.show()\n",
    "plt.close()\n"
   ]
  },
  {
   "cell_type": "markdown",
   "id": "19921426",
   "metadata": {},
   "source": [
    "Question 2: Does game location affect points for a team?:\n",
    "check there are minimum of 3 data points for each team for each game location"
   ]
  },
  {
   "cell_type": "code",
   "execution_count": null,
   "id": "9bf774cb",
   "metadata": {},
   "outputs": [],
   "source": [
    "teams_with_two_locations = nba.groupby(['playing_team','game_location'])['game_location'].count()\n",
    "teams_with_two_locations = teams_with_two_locations.to_frame(name = 'game_location_count').reset_index()\n",
    "teams_with_two_locations = teams_with_two_locations.pivot(index = 'playing_team', columns = 'game_location', values = 'game_location_count')\n",
    "teams_for_analysis = teams_with_two_locations[(teams_with_two_locations['H'] >=3) & (teams_with_two_locations['N'] >=3)]\n",
    "print(teams_for_analysis.head())\n",
    "print(teams_for_analysis.shape)\n",
    "\n",
    "#graph for each team, with location on x axis and points on y axis\n",
    "def points_vs_game_location(bballteams,name):\n",
    "    i=1\n",
    "    fig = plt.figure(figsize=(10,5))\n",
    "    color = iter(cm.rainbow(np.linspace(0,1,5)))\n",
    "    for value in bballteams.index:\n",
    "        team = nba[nba.playing_team == str(value)]\n",
    "        plt.subplot(1,2,i)\n",
    "        c= next(color)\n",
    "        sns.boxplot(x = team.game_location, y = team.pts,color=c)\n",
    "        plt.xlabel('Game Location')\n",
    "        plt.ylabel('Points Scored')  \n",
    "        plt.title(str.upper(value) + ': Points vs Game Location')\n",
    "        plt.legend(['h =home', 'n=not home'])\n",
    "        i+=1\n",
    "    fig.tight_layout()\n",
    "    fig.savefig(name)\n",
    "    plt.show()\n",
    "    plt.close()\n",
    "points_vs_game_location(teams_for_analysis,'points_scored_vs_location.jpg')"
   ]
  },
  {
   "cell_type": "markdown",
   "id": "92894a23",
   "metadata": {},
   "source": [
    "Question 3: Is playing team and game result associated for the top 5 and bottom 5 teams?:"
   ]
  },
  {
   "cell_type": "code",
   "execution_count": null,
   "id": "7a2615ca",
   "metadata": {},
   "outputs": [],
   "source": [
    "scores = nba.groupby('playing_team').pts.mean().reset_index()\n",
    "scores = scores.sort_values(by='pts', ascending = False)\n",
    "top_teams = scores.head()\n",
    "bottom_teams = scores.tail()\n",
    "ten_teams = top_teams.append(bottom_teams)\n",
    "nba_ten_teams = nba[nba['playing_team'].isin(ten_teams.playing_team.value_counts().index)]\n",
    "print(nba_ten_teams.playing_team.value_counts())\n",
    "\n",
    "gamelocationvsresult_expected = pd.crosstab(nba_ten_teams.playing_team,nba_ten_teams.game_result)\n",
    "print(gamelocationvsresult_expected)\n",
    "gamelocationvsresult_freq = gamelocationvsresult_expected/ len(nba_ten_teams)\n",
    "print(gamelocationvsresult_freq)\n",
    "chi2, locationvsresultpval, dof, locationvsresultexpected = chi2_contingency(gamelocationvsresult_freq)\n",
    "print(np.round(locationvsresultexpected,2))\n",
    "print(locationvsresultpval)\n"
   ]
  },
  {
   "cell_type": "markdown",
   "id": "e898ae1b",
   "metadata": {},
   "source": [
    "Question 4: Is there an association between points won and opposing points won for the top 5 teams and bottom 5 teams?: "
   ]
  },
  {
   "cell_type": "code",
   "execution_count": 3,
   "id": "b2ddb4a1",
   "metadata": {},
   "outputs": [
    {
     "ename": "NameError",
     "evalue": "name 'top_teams' is not defined",
     "output_type": "error",
     "traceback": [
      "\u001b[0;31m---------------------------------------------------------------------------\u001b[0m",
      "\u001b[0;31mNameError\u001b[0m                                 Traceback (most recent call last)",
      "\u001b[0;32m/var/folders/jl/ghr36nms4yd24n06j_2htsd00000gn/T/ipykernel_19671/1679704344.py\u001b[0m in \u001b[0;36m<module>\u001b[0;34m\u001b[0m\n\u001b[1;32m     18\u001b[0m     \u001b[0mfig\u001b[0m\u001b[0;34m.\u001b[0m\u001b[0msavefig\u001b[0m\u001b[0;34m(\u001b[0m\u001b[0mname\u001b[0m\u001b[0;34m)\u001b[0m\u001b[0;34m\u001b[0m\u001b[0;34m\u001b[0m\u001b[0m\n\u001b[1;32m     19\u001b[0m     \u001b[0mplt\u001b[0m\u001b[0;34m.\u001b[0m\u001b[0mclose\u001b[0m\u001b[0;34m(\u001b[0m\u001b[0;34m)\u001b[0m\u001b[0;34m\u001b[0m\u001b[0;34m\u001b[0m\u001b[0m\n\u001b[0;32m---> 20\u001b[0;31m \u001b[0mscatterplot_teams\u001b[0m\u001b[0;34m(\u001b[0m\u001b[0mtop_teams\u001b[0m\u001b[0;34m,\u001b[0m \u001b[0;34m'top_teams_ptswon_vs_opposing_ptswon.jpg'\u001b[0m\u001b[0;34m)\u001b[0m\u001b[0;34m\u001b[0m\u001b[0;34m\u001b[0m\u001b[0m\n\u001b[0m\u001b[1;32m     21\u001b[0m \u001b[0mscatterplot_teams\u001b[0m\u001b[0;34m(\u001b[0m\u001b[0mbottom_teams\u001b[0m\u001b[0;34m,\u001b[0m \u001b[0;34m'bottom_teams_ptswon_vs_opposing_ptswon.jpg'\u001b[0m\u001b[0;34m)\u001b[0m\u001b[0;34m\u001b[0m\u001b[0;34m\u001b[0m\u001b[0m\n",
      "\u001b[0;31mNameError\u001b[0m: name 'top_teams' is not defined"
     ]
    }
   ],
   "source": [
    "def scatterplot_teams(teams,name):\n",
    "    color = iter(cm.rainbow(np.linspace(0, 1, 5)))\n",
    "    fig = plt.figure(figsize=(12,12))\n",
    "    i=1\n",
    "    for value in teams.playing_team:\n",
    "        team = nba[nba.playing_team == str(value)]\n",
    "        plt.subplot(3,3,i)\n",
    "        c= next(color)\n",
    "        plt.xlabel('Points Scored')\n",
    "        plt.ylabel('Opposing Team Points Scored')  \n",
    "        plt.scatter(x=team.pts, y= team.opp_pts, c=c)\n",
    "        corr_point_vs_opp_pts, p = pearsonr(team.pts, team.opp_pts)\n",
    "        plt.annotate(str(np.round(corr_point_vs_opp_pts,2)), xy=(0.05, 0.95), xycoords='axes fraction')\n",
    "        plt.title(str.upper(value) + ': Points vs Opposing Points')\n",
    "        i+=1\n",
    "    fig.tight_layout()\n",
    "    plt.show()\n",
    "    fig.savefig(name)\n",
    "    plt.close()\n",
    "scatterplot_teams(top_teams, 'top_teams_ptswon_vs_opposing_ptswon.jpg')\n",
    "scatterplot_teams(bottom_teams, 'bottom_teams_ptswon_vs_opposing_ptswon.jpg')"
   ]
  },
  {
   "cell_type": "markdown",
   "id": "ba1218ce",
   "metadata": {},
   "source": [
    "Question 5: Is there an association between top 5 teams and points won?:"
   ]
  },
  {
   "cell_type": "code",
   "execution_count": null,
   "id": "fff83db9",
   "metadata": {},
   "outputs": [],
   "source": [
    "condors = nba.pts[nba.playing_team =='Condors']\n",
    "stars = nba.pts[nba.playing_team =='Stars']\n",
    "floridians = nba.pts[nba.playing_team =='Floridians']\n",
    "squires = nba.pts[nba.playing_team =='Squires']\n",
    "colonels = nba.pts[nba.playing_team =='Colonels']\n",
    "plt.hist(condors, color = 'green' , label = 'Condors', density = True, alpha = 0.5)\n",
    "plt.hist(stars, color = 'blue' , label = 'Stars', density = True, alpha = 0.5)\n",
    "plt.hist(floridians, color = 'red' , label = 'Floridians', density = True, alpha = 0.5)\n",
    "plt.hist(squires, color = 'yellow' , label = 'Squires', density = True, alpha = 0.5)\n",
    "plt.hist(colonels, color = 'orange' , label = 'Colonels', density = True, alpha = 0.5)\n",
    "plt.xlabel('Playing Team')\n",
    "plt.ylabel('Points Scored')\n",
    "plt.title('Top 5 Teams: Points Scored Distribution')\n",
    "plt.legend()\n",
    "plt.savefig('top5teams_pts_scored_hist.jpg')\n",
    "plt.show()\n",
    "plt.close()"
   ]
  }
 ],
 "metadata": {
  "kernelspec": {
   "display_name": "Python 3 (ipykernel)",
   "language": "python",
   "name": "python3"
  },
  "language_info": {
   "codemirror_mode": {
    "name": "ipython",
    "version": 3
   },
   "file_extension": ".py",
   "mimetype": "text/x-python",
   "name": "python",
   "nbconvert_exporter": "python",
   "pygments_lexer": "ipython3",
   "version": "3.9.13"
  }
 },
 "nbformat": 4,
 "nbformat_minor": 5
}
